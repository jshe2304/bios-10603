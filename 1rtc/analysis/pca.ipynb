{
 "cells": [
  {
   "cell_type": "code",
   "execution_count": 3,
   "id": "89f26644-1546-428a-9002-55c4df0dfd9e",
   "metadata": {
    "tags": []
   },
   "outputs": [],
   "source": [
    "import MDAnalysis as mda\n",
    "\n",
    "import MDAnalysis.analysis.pca as pca\n",
    "\n",
    "import os"
   ]
  },
  {
   "cell_type": "code",
   "execution_count": 9,
   "id": "64c5e4ff-a95b-48ab-a906-88477a364a1b",
   "metadata": {
    "tags": []
   },
   "outputs": [
    {
     "data": {
      "text/plain": [
       "<MDAnalysis.analysis.pca.PCA at 0x11ce5fa90>"
      ]
     },
     "execution_count": 9,
     "metadata": {},
     "output_type": "execute_result"
    }
   ],
   "source": [
    "wild_dir = \"/Users/jshe/School/bios-10603/1rtc/1rtc-wild/\"\n",
    "s203n_dir = \"/Users/jshe/School/bios-10603/1rtc/1rtc-s203n/\"\n",
    "\n",
    "u = mda.Universe(wild_dir + \"1rtc-wild.psf\", wild_dir + \"1rtc-wild.dcd\")\n",
    "\n",
    "PSF_pca = pca.PCA(u, select='backbone')\n",
    "\n",
    "PSF_pca.run()"
   ]
  }
 ],
 "metadata": {
  "kernelspec": {
   "display_name": "Python 3 (ipykernel)",
   "language": "python",
   "name": "python3"
  },
  "language_info": {
   "codemirror_mode": {
    "name": "ipython",
    "version": 3
   },
   "file_extension": ".py",
   "mimetype": "text/x-python",
   "name": "python",
   "nbconvert_exporter": "python",
   "pygments_lexer": "ipython3",
   "version": "3.10.6"
  }
 },
 "nbformat": 4,
 "nbformat_minor": 5
}
